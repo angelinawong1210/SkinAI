{
  "cells": [
    {
      "cell_type": "code",
      "execution_count": 1,
      "metadata": {
        "id": "YDgtO0g2116W",
        "colab": {
          "base_uri": "https://localhost:8080/",
          "height": 0
        },
        "outputId": "39a9a3f1-0c2b-4d7c-df81-9e96c4939bd3"
      },
      "outputs": [
        {
          "output_type": "stream",
          "name": "stdout",
          "text": [
            "Mounted at /content/drive/\n"
          ]
        }
      ],
      "source": [
        "from google.colab import drive\n",
        "drive.mount(\"/content/drive/\")"
      ]
    },
    {
      "cell_type": "markdown",
      "source": [
        "# Import essential modules"
      ],
      "metadata": {
        "id": "ROp5MDzE2MGE"
      }
    },
    {
      "cell_type": "code",
      "source": [
        "import os\n",
        "import pandas as pd\n",
        "import numpy as np\n",
        "from sklearn.neighbors import KNeighborsClassifier\n",
        "from sklearn.metrics import classification_report, accuracy_score\n",
        "from PIL import Image\n",
        "from multiprocessing import Pool\n",
        "from tqdm import tqdm"
      ],
      "metadata": {
        "id": "XS8Pgztxct_L"
      },
      "execution_count": 2,
      "outputs": []
    },
    {
      "cell_type": "markdown",
      "source": [
        "# Important functions"
      ],
      "metadata": {
        "id": "FfUM1GHH2nOs"
      }
    },
    {
      "cell_type": "code",
      "source": [
        "# Function to convert image to feature vector\n",
        "def image_to_feature_vector(image_path, size=(32, 32)):\n",
        "    image = Image.open(image_path)\n",
        "    image = image.resize(size)\n",
        "    return np.array(image).flatten()"
      ],
      "metadata": {
        "id": "zqLg2WbjzL3y"
      },
      "execution_count": 3,
      "outputs": []
    },
    {
      "cell_type": "code",
      "source": [
        "# Parallelized function to load images and extract features\n",
        "def process_image(row):\n",
        "    image_path = row['Paths']\n",
        "    features = image_to_feature_vector(image_path)\n",
        "    return features"
      ],
      "metadata": {
        "id": "jgAel9XX2xdm"
      },
      "execution_count": 4,
      "outputs": []
    },
    {
      "cell_type": "markdown",
      "source": [
        "# Create the training and testing set"
      ],
      "metadata": {
        "id": "PzKmFES32slq"
      }
    },
    {
      "cell_type": "code",
      "source": [
        "# Training set\n",
        "## Get paths of the Training directory\n",
        "Training = \"/content/drive/MyDrive/SkinAI/train\"\n",
        "imgpaths = []\n",
        "labels =[]\n",
        "## Convert directories to list\n",
        "tr_dir = os.listdir(Training)\n",
        "\n",
        "## Get paths and labels of classes and images in Training directory\n",
        "for i in tr_dir:\n",
        "    classpath = os.path.join(Training, i)\n",
        "    imglist = os.listdir(classpath)\n",
        "    for img in imglist:\n",
        "        imgpath = os.path.join(classpath, img)\n",
        "        imgpaths.append(imgpath)\n",
        "        labels.append(i)\n",
        "\n",
        "## Create the data frame\n",
        "Paths = pd.Series(imgpaths, name = 'Paths')\n",
        "Labels = pd.Series(labels, name = 'Labels')\n",
        "Tr_data = pd.concat([Paths, Labels], axis = 1)\n",
        "\n",
        "## Extract 1000 random samples for the Training set\n",
        "Tr_data = Tr_data.sample(n=300, random_state=42)"
      ],
      "metadata": {
        "id": "VGXkhQHui0NH"
      },
      "execution_count": 5,
      "outputs": []
    },
    {
      "cell_type": "code",
      "source": [
        "# Use multiprocessing to parallelize feature extraction for training set\n",
        "with Pool() as pool:\n",
        "  train_features = pool.map(process_image, Tr_data.to_dict('records'))\n",
        "X_train = np.array(train_features)\n",
        "y_train = Tr_data['Labels']"
      ],
      "metadata": {
        "id": "I_yUp4DIzWF2"
      },
      "execution_count": 6,
      "outputs": []
    },
    {
      "cell_type": "code",
      "source": [
        "# Testing set\n",
        "Testing = \"/content/drive/MyDrive/SkinAI/test\"\n",
        "imgpaths = []\n",
        "labels =[]\n",
        "ts_dir = os.listdir(Testing)\n",
        "\n",
        "## Get paths and labels of classes and images in Testing directory\n",
        "for i in ts_dir:\n",
        "    classpath = os.path.join(Testing, i)\n",
        "    imglist = os.listdir(classpath)\n",
        "    for img in imglist:\n",
        "        imgpath = os.path.join(classpath, img)\n",
        "        imgpaths.append(imgpath)\n",
        "        labels.append(i)\n",
        "\n",
        "## Create the data frame\n",
        "Paths = pd.Series(imgpaths, name = 'Paths')\n",
        "Labels = pd.Series(labels, name = 'Labels')\n",
        "Ts_data = pd.concat([Paths, Labels], axis = 1)\n",
        "\n",
        "## Extract 300 samples for the Testing set\n",
        "Ts_data = Ts_data.sample(n=300, random_state=42)"
      ],
      "metadata": {
        "id": "c71rJA0_oB5x"
      },
      "execution_count": 7,
      "outputs": []
    },
    {
      "cell_type": "code",
      "source": [
        "# Use multiprocessing to parallelize feature extraction for testing set\n",
        "with Pool() as pool:\n",
        "    test_features = pool.map(process_image, Ts_data.to_dict('records'))\n",
        "X_test = np.array(test_features)\n",
        "y_test = Ts_data['Labels']"
      ],
      "metadata": {
        "id": "j4UYFad5zYjI"
      },
      "execution_count": 8,
      "outputs": []
    },
    {
      "cell_type": "code",
      "source": [
        "# Initialize KNN classifier\n",
        "k = 5\n",
        "knn_classifier = KNeighborsClassifier(n_neighbors=k)\n",
        "\n",
        "# Train the classifier\n",
        "knn_classifier.fit(X_train, y_train)"
      ],
      "metadata": {
        "colab": {
          "base_uri": "https://localhost:8080/",
          "height": 75
        },
        "id": "oKn0NiT-jitD",
        "outputId": "1426e192-10a1-42cd-ea97-a54ca5a2a292"
      },
      "execution_count": 9,
      "outputs": [
        {
          "output_type": "execute_result",
          "data": {
            "text/plain": [
              "KNeighborsClassifier()"
            ],
            "text/html": [
              "<style>#sk-container-id-1 {color: black;background-color: white;}#sk-container-id-1 pre{padding: 0;}#sk-container-id-1 div.sk-toggleable {background-color: white;}#sk-container-id-1 label.sk-toggleable__label {cursor: pointer;display: block;width: 100%;margin-bottom: 0;padding: 0.3em;box-sizing: border-box;text-align: center;}#sk-container-id-1 label.sk-toggleable__label-arrow:before {content: \"▸\";float: left;margin-right: 0.25em;color: #696969;}#sk-container-id-1 label.sk-toggleable__label-arrow:hover:before {color: black;}#sk-container-id-1 div.sk-estimator:hover label.sk-toggleable__label-arrow:before {color: black;}#sk-container-id-1 div.sk-toggleable__content {max-height: 0;max-width: 0;overflow: hidden;text-align: left;background-color: #f0f8ff;}#sk-container-id-1 div.sk-toggleable__content pre {margin: 0.2em;color: black;border-radius: 0.25em;background-color: #f0f8ff;}#sk-container-id-1 input.sk-toggleable__control:checked~div.sk-toggleable__content {max-height: 200px;max-width: 100%;overflow: auto;}#sk-container-id-1 input.sk-toggleable__control:checked~label.sk-toggleable__label-arrow:before {content: \"▾\";}#sk-container-id-1 div.sk-estimator input.sk-toggleable__control:checked~label.sk-toggleable__label {background-color: #d4ebff;}#sk-container-id-1 div.sk-label input.sk-toggleable__control:checked~label.sk-toggleable__label {background-color: #d4ebff;}#sk-container-id-1 input.sk-hidden--visually {border: 0;clip: rect(1px 1px 1px 1px);clip: rect(1px, 1px, 1px, 1px);height: 1px;margin: -1px;overflow: hidden;padding: 0;position: absolute;width: 1px;}#sk-container-id-1 div.sk-estimator {font-family: monospace;background-color: #f0f8ff;border: 1px dotted black;border-radius: 0.25em;box-sizing: border-box;margin-bottom: 0.5em;}#sk-container-id-1 div.sk-estimator:hover {background-color: #d4ebff;}#sk-container-id-1 div.sk-parallel-item::after {content: \"\";width: 100%;border-bottom: 1px solid gray;flex-grow: 1;}#sk-container-id-1 div.sk-label:hover label.sk-toggleable__label {background-color: #d4ebff;}#sk-container-id-1 div.sk-serial::before {content: \"\";position: absolute;border-left: 1px solid gray;box-sizing: border-box;top: 0;bottom: 0;left: 50%;z-index: 0;}#sk-container-id-1 div.sk-serial {display: flex;flex-direction: column;align-items: center;background-color: white;padding-right: 0.2em;padding-left: 0.2em;position: relative;}#sk-container-id-1 div.sk-item {position: relative;z-index: 1;}#sk-container-id-1 div.sk-parallel {display: flex;align-items: stretch;justify-content: center;background-color: white;position: relative;}#sk-container-id-1 div.sk-item::before, #sk-container-id-1 div.sk-parallel-item::before {content: \"\";position: absolute;border-left: 1px solid gray;box-sizing: border-box;top: 0;bottom: 0;left: 50%;z-index: -1;}#sk-container-id-1 div.sk-parallel-item {display: flex;flex-direction: column;z-index: 1;position: relative;background-color: white;}#sk-container-id-1 div.sk-parallel-item:first-child::after {align-self: flex-end;width: 50%;}#sk-container-id-1 div.sk-parallel-item:last-child::after {align-self: flex-start;width: 50%;}#sk-container-id-1 div.sk-parallel-item:only-child::after {width: 0;}#sk-container-id-1 div.sk-dashed-wrapped {border: 1px dashed gray;margin: 0 0.4em 0.5em 0.4em;box-sizing: border-box;padding-bottom: 0.4em;background-color: white;}#sk-container-id-1 div.sk-label label {font-family: monospace;font-weight: bold;display: inline-block;line-height: 1.2em;}#sk-container-id-1 div.sk-label-container {text-align: center;}#sk-container-id-1 div.sk-container {/* jupyter's `normalize.less` sets `[hidden] { display: none; }` but bootstrap.min.css set `[hidden] { display: none !important; }` so we also need the `!important` here to be able to override the default hidden behavior on the sphinx rendered scikit-learn.org. See: https://github.com/scikit-learn/scikit-learn/issues/21755 */display: inline-block !important;position: relative;}#sk-container-id-1 div.sk-text-repr-fallback {display: none;}</style><div id=\"sk-container-id-1\" class=\"sk-top-container\"><div class=\"sk-text-repr-fallback\"><pre>KNeighborsClassifier()</pre><b>In a Jupyter environment, please rerun this cell to show the HTML representation or trust the notebook. <br />On GitHub, the HTML representation is unable to render, please try loading this page with nbviewer.org.</b></div><div class=\"sk-container\" hidden><div class=\"sk-item\"><div class=\"sk-estimator sk-toggleable\"><input class=\"sk-toggleable__control sk-hidden--visually\" id=\"sk-estimator-id-1\" type=\"checkbox\" checked><label for=\"sk-estimator-id-1\" class=\"sk-toggleable__label sk-toggleable__label-arrow\">KNeighborsClassifier</label><div class=\"sk-toggleable__content\"><pre>KNeighborsClassifier()</pre></div></div></div></div></div>"
            ]
          },
          "metadata": {},
          "execution_count": 9
        }
      ]
    },
    {
      "cell_type": "code",
      "source": [
        "# Predictions on the test set\n",
        "y_pred = knn_classifier.predict(X_test)\n",
        "\n",
        "# Calculate accuracy\n",
        "accuracy = accuracy_score(y_test, y_pred)\n",
        "print(\"Accuracy:\", accuracy)\n",
        "\n",
        "# Classification report\n",
        "print(\"\\nClassification Report:\")\n",
        "print(classification_report(y_test, y_pred))"
      ],
      "metadata": {
        "colab": {
          "base_uri": "https://localhost:8080/",
          "height": 0
        },
        "id": "0dt3STE0j-_v",
        "outputId": "89d62675-9c10-43d6-b9fe-924024c600ca"
      },
      "execution_count": 10,
      "outputs": [
        {
          "output_type": "stream",
          "name": "stdout",
          "text": [
            "Accuracy: 0.49666666666666665\n",
            "\n",
            "Classification Report:\n",
            "                                              precision    recall  f1-score   support\n",
            "\n",
            "                     Acne and Rosacea Photos       0.68      0.62      0.65       179\n",
            "Light Diseases and Disorders of Pigmentation       0.12      0.06      0.08        68\n",
            "         Melanoma Skin Cancer Nevi and Moles       0.33      0.64      0.43        53\n",
            "\n",
            "                                    accuracy                           0.50       300\n",
            "                                   macro avg       0.38      0.44      0.39       300\n",
            "                                weighted avg       0.49      0.50      0.48       300\n",
            "\n"
          ]
        }
      ]
    }
  ],
  "metadata": {
    "colab": {
      "provenance": [],
      "gpuType": "T4"
    },
    "kernelspec": {
      "display_name": "Python 3",
      "name": "python3"
    },
    "language_info": {
      "name": "python"
    },
    "accelerator": "GPU"
  },
  "nbformat": 4,
  "nbformat_minor": 0
}